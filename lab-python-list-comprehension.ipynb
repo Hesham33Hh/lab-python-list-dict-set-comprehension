{
 "cells": [
  {
   "cell_type": "markdown",
   "id": "25d7736c-ba17-4aff-b6bb-66eba20fbf4e",
   "metadata": {},
   "source": [
    "# Lab | List, Dict and Set Comprehension"
   ]
  },
  {
   "cell_type": "markdown",
   "id": "5d500160-2fb7-4777-b5e4-09d45ebaf328",
   "metadata": {},
   "source": [
    "In the previous exercise, you developed a program to manage customer orders and inventory. Now, let's take it a step further and incorporate comprehension into your code.\n",
    "\n",
    "Follow the steps below to complete the exercise:\n",
    "\n",
    "1. Review your code from the previous exercise and identify areas where you can apply comprehension to simplify and streamline your code. \n",
    "\n",
    "    - *Hint: Apply it to initialize inventory, updating the inventory and printing the updated inventory.*\n",
    "    \n",
    "    - For example, in initializing the inventory, we could have:\n",
    "    \n",
    "        ```python\n",
    "        def initialize_inventory(products):\n",
    "            inventory = {product: int(input(f\"Enter the quantity of {product}s available: \")) for product in products}\n",
    "            return inventory\n",
    "\n",
    "        ```\n",
    "<br>\n",
    "    \n",
    "    \n",
    "2. Modify the function get_customer_orders so it prompts the user to enter the number of customer orders and gathers the product names using a loop and user input. Use comprehension.\n",
    "\n",
    "3. Add a new function to calculate the total price of the customer order. For each product in customer_orders, prompt the user to enter the price of that product. Use comprehension to calculate the total price. Note: assume that the user can only have 1 unit of each product.\n",
    "\n",
    "4. Modify the update_inventory function to remove the product from the inventory if its quantity becomes zero after fulfilling the customer orders. Use comprehension to filter out the products with a quantity of zero from the inventory.\n",
    "\n",
    "5. Print the total price of the customer order.\n",
    "\n",
    "Your code should produce output similar to the following:\n",
    "\n",
    "```python\n",
    "Enter the quantity of t-shirts available:  5\n",
    "Enter the quantity of mugs available:  4\n",
    "Enter the quantity of hats available:  3\n",
    "Enter the quantity of books available:  2\n",
    "Enter the quantity of keychains available:  1\n",
    "Enter the number of customer orders:  2\n",
    "Enter the name of a product that a customer wants to order:  hat\n",
    "Enter the name of a product that a customer wants to order:  keychain\n",
    "\n",
    "Order Statistics:\n",
    "Total Products Ordered: 2\n",
    "Percentage of Unique Products Ordered: 40.0\n",
    "\n",
    "Updated Inventory:\n",
    "t-shirt: 5\n",
    "mug: 4\n",
    "hat: 2\n",
    "book: 2\n",
    "Enter the price of keychain:  5\n",
    "Enter the price of hat:  10\n",
    "Total Price: 15.0\n",
    "\n",
    "```\n"
   ]
  },
  {
   "cell_type": "markdown",
   "id": "ea2fe82b",
   "metadata": {},
   "source": [
    "###1. Review your code from the previous exercise and identify areas where you can apply comprehension to simplify and streamline your code. \n",
    "\n",
    "    - *Hint: Apply it to initialize inventory, updating the inventory and printing the updated inventory.*\n",
    "    \n",
    "    - For example, in initializing the inventory, we could have:\n",
    "    \n",
    "        ```python\n",
    "        def initialize_inventory(products):\n",
    "            inventory = {product: int(input(f\"Enter the quantity of {product}s available: \")) for product in products}\n",
    "            return inventory\n",
    "\n",
    "        ```\n",
    "<br>"
   ]
  },
  {
   "cell_type": "code",
   "execution_count": 14,
   "id": "5842562c",
   "metadata": {},
   "outputs": [],
   "source": [
    "products = [\"apple\", \"banana\", \"orange\"]"
   ]
  },
  {
   "cell_type": "code",
   "execution_count": 16,
   "id": "2a9fb4c0",
   "metadata": {},
   "outputs": [],
   "source": [
    "inventory = {product: int(input(f\"Enter the quantity of {product}s available: \")) for product in products}"
   ]
  },
  {
   "cell_type": "code",
   "execution_count": 19,
   "id": "ea80beca",
   "metadata": {},
   "outputs": [],
   "source": [
    "num_orders = int(input(\"Enter the number of customer orders: \"))\n"
   ]
  },
  {
   "cell_type": "code",
   "execution_count": 20,
   "id": "55801a99",
   "metadata": {},
   "outputs": [],
   "source": [
    "orders = [input(\"Enter the name of a product that a customer wants to order: \") for _ in range(2)]"
   ]
  },
  {
   "cell_type": "code",
   "execution_count": 21,
   "id": "c4f50a2d",
   "metadata": {},
   "outputs": [],
   "source": [
    "updated_inventory = {\n",
    "    product: inventory[product] - orders.count(product)\n",
    "    for product in inventory\n",
    "    if inventory[product] - orders.count(product) > 0}"
   ]
  },
  {
   "cell_type": "code",
   "execution_count": 22,
   "id": "9c80cd44",
   "metadata": {},
   "outputs": [
    {
     "name": "stdout",
     "output_type": "stream",
     "text": [
      "\n",
      "Updated Inventory:\n",
      "apple: 4\n",
      "banana: 6\n",
      "orange: 6\n"
     ]
    },
    {
     "data": {
      "text/plain": [
       "[None, None, None]"
      ]
     },
     "execution_count": 22,
     "metadata": {},
     "output_type": "execute_result"
    }
   ],
   "source": [
    "print(\"\\nUpdated Inventory:\")\n",
    "[print(f\"{product}: {quantity}\") for product, quantity in updated_inventory.items()]"
   ]
  },
  {
   "cell_type": "code",
   "execution_count": 23,
   "id": "7fc5e940",
   "metadata": {},
   "outputs": [
    {
     "name": "stdout",
     "output_type": "stream",
     "text": [
      "Total Price: 25.0\n"
     ]
    }
   ],
   "source": [
    "prices = {product: float(input(f\"Enter the price of {product}: \")) for product in orders}\n",
    "total_price = sum(prices[product] for product in orders)\n",
    "print(f\"Total Price: {total_price}\")"
   ]
  },
  {
   "cell_type": "markdown",
   "id": "815fa109",
   "metadata": {},
   "source": [
    "### 2. Modify the function get_customer_orders so it prompts the user to enter the number of customer orders and gathers the product names using a loop and user input. Use comprehension.\n"
   ]
  },
  {
   "cell_type": "code",
   "execution_count": 24,
   "id": "69678503",
   "metadata": {},
   "outputs": [],
   "source": [
    "def get_customer_orders():\n",
    "    num_orders = int(input(\"Enter the number of customer orders: \"))\n",
    "    return [input(\"Enter the name of a product: \") for _ in range(num_orders)]"
   ]
  },
  {
   "cell_type": "markdown",
   "id": "5cfee520",
   "metadata": {},
   "source": [
    "### 3. Add a new function to calculate the total price of the customer order. For each product in customer_orders, prompt the user to enter the price of that product. Use comprehension to calculate the total price. Note: assume that the user can only have 1 unit of each product."
   ]
  },
  {
   "cell_type": "code",
   "execution_count": 25,
   "id": "5659dcb1",
   "metadata": {},
   "outputs": [],
   "source": [
    "def calculate_total_price(customer_orders):\n",
    "    prices = {product: float(input(f\"Enter the price of {product}: \")) for product in customer_orders}\n",
    "    return sum(prices[product] for product in customer_orders)"
   ]
  },
  {
   "cell_type": "markdown",
   "id": "19c92e15",
   "metadata": {},
   "source": [
    "### 4. Modify the update_inventory function to remove the product from the inventory if its quantity becomes zero after fulfilling the customer orders. Use comprehension to filter out the products with a quantity of zero from the inventory.\n"
   ]
  },
  {
   "cell_type": "code",
   "execution_count": 26,
   "id": "095363ad",
   "metadata": {},
   "outputs": [],
   "source": [
    "def update_inventory(inventory, customer_orders):\n",
    "    return {\n",
    "        product: inventory[product] - 1\n",
    "        for product in inventory\n",
    "        if product in customer_orders and inventory[product] - 1 > 0\n",
    "    }"
   ]
  },
  {
   "cell_type": "markdown",
   "id": "ffe22634",
   "metadata": {},
   "source": [
    "### 5. Print the total price of the customer order."
   ]
  },
  {
   "cell_type": "code",
   "execution_count": 28,
   "id": "34598fa3",
   "metadata": {},
   "outputs": [
    {
     "name": "stdout",
     "output_type": "stream",
     "text": [
      "\n",
      "Order Statistics:\n",
      "Total Products Ordered: 2\n",
      "Percentage of Unique Products Ordered: 40.0\n",
      "\n",
      "Updated Inventory:\n",
      "t-shirt: 4\n",
      "mug: 3\n",
      "hat: 2\n",
      "book: 1\n",
      "Total Price: 15.0\n"
     ]
    }
   ],
   "source": [
    "def initialize_inventory(products):\n",
    "    return {product: int(input(f\"Enter the quantity of {product}s available: \")) for product in products}\n",
    "\n",
    "def get_customer_orders():\n",
    "    num_orders = int(input(\"Enter the number of customer orders: \"))\n",
    "    return [input(\"Enter the name of a product that a customer wants to order: \") for _ in range(num_orders)]\n",
    "\n",
    "def update_inventory(inventory, customer_orders):\n",
    "    return {\n",
    "        product: inventory[product] - 1\n",
    "        for product in inventory\n",
    "        if product not in customer_orders or inventory[product] - 1 > 0\n",
    "    }\n",
    "\n",
    "def calculate_total_price(customer_orders):\n",
    "    prices = {product: float(input(f\"Enter the price of {product}: \")) for product in customer_orders}\n",
    "    return sum(prices[product] for product in customer_orders)\n",
    "\n",
    "def show_order_statistics(orders, total_products):\n",
    "    print(\"\\nOrder Statistics:\")\n",
    "    print(f\"Total Products Ordered: {len(orders)}\")\n",
    "    percentage = (len(set(orders)) / total_products) * 100\n",
    "    print(f\"Percentage of Unique Products Ordered: {percentage:.1f}\")\n",
    "\n",
    "def print_inventory(inventory):\n",
    "    print(\"\\nUpdated Inventory:\")\n",
    "    [print(f\"{product}: {qty}\") for product, qty in inventory.items()]\n",
    "    \n",
    "\n",
    "# --- Main Program ---\n",
    "products = [\"t-shirt\", \"mug\", \"hat\", \"book\", \"keychain\"]\n",
    "\n",
    "inventory = initialize_inventory(products)\n",
    "orders = get_customer_orders()\n",
    "show_order_statistics(orders, len(products))\n",
    "inventory = update_inventory(inventory, orders)\n",
    "print_inventory(inventory)\n",
    "total = calculate_total_price(orders)\n",
    "print(f\"Total Price: {total}\")\n"
   ]
  }
 ],
 "metadata": {
  "kernelspec": {
   "display_name": "Python 3",
   "language": "python",
   "name": "python3"
  },
  "language_info": {
   "codemirror_mode": {
    "name": "ipython",
    "version": 3
   },
   "file_extension": ".py",
   "mimetype": "text/x-python",
   "name": "python",
   "nbconvert_exporter": "python",
   "pygments_lexer": "ipython3",
   "version": "3.14.0a6"
  }
 },
 "nbformat": 4,
 "nbformat_minor": 5
}
